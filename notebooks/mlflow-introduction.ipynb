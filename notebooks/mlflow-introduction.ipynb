{
 "cells": [
  {
   "cell_type": "code",
   "execution_count": 10,
   "metadata": {},
   "outputs": [],
   "source": [
    "import os\n",
    "import pandas as pd\n",
    "from contextlib import asynccontextmanager\n",
    "from fastapi import FastAPI\n",
    "import mlflow\n",
    "import mlflow.xgboost\n",
    "import numpy as np\n",
    "from xgboost import XGBClassifier\n",
    "from pydantic import BaseModel\n",
    "from dotenv import load_dotenv\n",
    "from sklearn.metrics import accuracy_score, classification_report\n",
    "from sklearn.model_selection import train_test_split"
   ]
  },
  {
   "cell_type": "code",
   "execution_count": 11,
   "metadata": {},
   "outputs": [
    {
     "name": "stdout",
     "output_type": "stream",
     "text": [
      "   readmission       chol        crp       phos\n",
      "0            1   8.880291  15.001677   6.862829\n",
      "1            1  10.455361  10.946142   8.598409\n",
      "2            1   8.240882  10.249403  15.327369\n",
      "3            1   9.294992  14.690765   8.428716\n",
      "4            0   9.720638  14.872264   8.485291\n",
      "<class 'pandas.core.frame.DataFrame'>\n",
      "RangeIndex: 3450 entries, 0 to 3449\n",
      "Data columns (total 4 columns):\n",
      " #   Column       Non-Null Count  Dtype  \n",
      "---  ------       --------------  -----  \n",
      " 0   readmission  3450 non-null   int64  \n",
      " 1   chol         3450 non-null   float64\n",
      " 2   crp          3450 non-null   float64\n",
      " 3   phos         3450 non-null   float64\n",
      "dtypes: float64(3), int64(1)\n",
      "memory usage: 107.9 KB\n",
      "None\n"
     ]
    }
   ],
   "source": [
    "# Charger les données\n",
    "data = pd.read_csv('/home/onyxia/formation-mlops/DSA-2025_clean_data.csv', sep='\\t')\n",
    "\n",
    "# Afficher les premières lignes du DataFrame\n",
    "print(data.head())\n",
    "\n",
    "# Afficher des informations sur le DataFrame\n",
    "print(data.info())"
   ]
  },
  {
   "cell_type": "code",
   "execution_count": 12,
   "metadata": {},
   "outputs": [],
   "source": [
    "# Séparer les caractéristiques et la cible\n",
    "X = data.drop(columns=['readmission'])\n",
    "y = data['readmission']\n",
    "\n",
    "# Diviser les données en ensembles d'entraînement et de test\n",
    "X_train, X_test, y_train, y_test = train_test_split(X, y, test_size=0.2, random_state=42)"
   ]
  },
  {
   "cell_type": "code",
   "execution_count": 13,
   "metadata": {},
   "outputs": [
    {
     "name": "stdout",
     "output_type": "stream",
     "text": [
      "Classes uniques dans y_train: {0, 1}\n",
      "              precision    recall  f1-score   support\n",
      "\n",
      "           0       0.95      0.99      0.97       488\n",
      "           1       0.97      0.89      0.93       202\n",
      "\n",
      "    accuracy                           0.96       690\n",
      "   macro avg       0.96      0.94      0.95       690\n",
      "weighted avg       0.96      0.96      0.96       690\n",
      "\n"
     ]
    },
    {
     "name": "stderr",
     "output_type": "stream",
     "text": [
      "/opt/conda/lib/python3.12/site-packages/xgboost/core.py:158: UserWarning: [14:07:48] WARNING: /home/conda/feedstock_root/build_artifacts/xgboost-split_1742444421431/work/src/c_api/c_api.cc:1374: Saving model in the UBJSON format as default.  You can use file extension: `json`, `ubj` or `deprecated` to choose between formats.\n",
      "  warnings.warn(smsg, UserWarning)\n",
      "\u001b[31m2025/04/01 14:07:55 WARNING mlflow.models.model: Model logged without a signature and input example. Please set `input_example` parameter when logging the model to auto infer the model signature.\u001b[0m\n"
     ]
    },
    {
     "name": "stdout",
     "output_type": "stream",
     "text": [
      "🏃 View run nebulous-newt-912 at: https://user-nbacke-mlflow.user.lab.sspcloud.fr/#/experiments/0/runs/b0f207f41a8041d289c661e01ce5fa31\n",
      "🧪 View experiment at: https://user-nbacke-mlflow.user.lab.sspcloud.fr/#/experiments/0\n",
      "              precision    recall  f1-score   support\n",
      "\n",
      "           0       0.97      0.98      0.98       488\n",
      "           1       0.95      0.93      0.94       202\n",
      "\n",
      "    accuracy                           0.97       690\n",
      "   macro avg       0.96      0.96      0.96       690\n",
      "weighted avg       0.97      0.97      0.97       690\n",
      "\n"
     ]
    },
    {
     "name": "stderr",
     "output_type": "stream",
     "text": [
      "/opt/conda/lib/python3.12/site-packages/xgboost/core.py:158: UserWarning: [14:07:57] WARNING: /home/conda/feedstock_root/build_artifacts/xgboost-split_1742444421431/work/src/c_api/c_api.cc:1374: Saving model in the UBJSON format as default.  You can use file extension: `json`, `ubj` or `deprecated` to choose between formats.\n",
      "  warnings.warn(smsg, UserWarning)\n",
      "\u001b[31m2025/04/01 14:08:04 WARNING mlflow.models.model: Model logged without a signature and input example. Please set `input_example` parameter when logging the model to auto infer the model signature.\u001b[0m\n"
     ]
    },
    {
     "name": "stdout",
     "output_type": "stream",
     "text": [
      "🏃 View run exultant-mule-824 at: https://user-nbacke-mlflow.user.lab.sspcloud.fr/#/experiments/0/runs/b931e0db60274708b7b56db65c1dd213\n",
      "🧪 View experiment at: https://user-nbacke-mlflow.user.lab.sspcloud.fr/#/experiments/0\n",
      "              precision    recall  f1-score   support\n",
      "\n",
      "           0       0.97      0.99      0.98       488\n",
      "           1       0.97      0.92      0.94       202\n",
      "\n",
      "    accuracy                           0.97       690\n",
      "   macro avg       0.97      0.95      0.96       690\n",
      "weighted avg       0.97      0.97      0.97       690\n",
      "\n"
     ]
    },
    {
     "name": "stderr",
     "output_type": "stream",
     "text": [
      "/opt/conda/lib/python3.12/site-packages/xgboost/core.py:158: UserWarning: [14:08:06] WARNING: /home/conda/feedstock_root/build_artifacts/xgboost-split_1742444421431/work/src/c_api/c_api.cc:1374: Saving model in the UBJSON format as default.  You can use file extension: `json`, `ubj` or `deprecated` to choose between formats.\n",
      "  warnings.warn(smsg, UserWarning)\n",
      "\u001b[31m2025/04/01 14:08:13 WARNING mlflow.models.model: Model logged without a signature and input example. Please set `input_example` parameter when logging the model to auto infer the model signature.\u001b[0m\n"
     ]
    },
    {
     "name": "stdout",
     "output_type": "stream",
     "text": [
      "🏃 View run amusing-duck-345 at: https://user-nbacke-mlflow.user.lab.sspcloud.fr/#/experiments/0/runs/301ec57b7e224a3f88af933d1b8732cb\n",
      "🧪 View experiment at: https://user-nbacke-mlflow.user.lab.sspcloud.fr/#/experiments/0\n",
      "              precision    recall  f1-score   support\n",
      "\n",
      "           0       0.98      0.98      0.98       488\n",
      "           1       0.95      0.94      0.94       202\n",
      "\n",
      "    accuracy                           0.97       690\n",
      "   macro avg       0.96      0.96      0.96       690\n",
      "weighted avg       0.97      0.97      0.97       690\n",
      "\n"
     ]
    },
    {
     "name": "stderr",
     "output_type": "stream",
     "text": [
      "/opt/conda/lib/python3.12/site-packages/xgboost/core.py:158: UserWarning: [14:08:14] WARNING: /home/conda/feedstock_root/build_artifacts/xgboost-split_1742444421431/work/src/c_api/c_api.cc:1374: Saving model in the UBJSON format as default.  You can use file extension: `json`, `ubj` or `deprecated` to choose between formats.\n",
      "  warnings.warn(smsg, UserWarning)\n",
      "\u001b[31m2025/04/01 14:08:21 WARNING mlflow.models.model: Model logged without a signature and input example. Please set `input_example` parameter when logging the model to auto infer the model signature.\u001b[0m\n"
     ]
    },
    {
     "name": "stdout",
     "output_type": "stream",
     "text": [
      "🏃 View run treasured-doe-714 at: https://user-nbacke-mlflow.user.lab.sspcloud.fr/#/experiments/0/runs/a4e6f438f3a448acaf785cee4ae4f06f\n",
      "🧪 View experiment at: https://user-nbacke-mlflow.user.lab.sspcloud.fr/#/experiments/0\n"
     ]
    }
   ],
   "source": [
    "# Vérifier les classes de y_train\n",
    "print(f\"Classes uniques dans y_train: {set(y_train)}\")\n",
    "\n",
    "# Définir une grille d'hyper-paramètres\n",
    "param_grid = {\n",
    "    'n_estimators': [100, 200],\n",
    "    'learning_rate': [0.01, 0.1]\n",
    "}\n",
    "\n",
    "def train_and_evaluate(params):\n",
    "    with mlflow.start_run():\n",
    "        model = XGBClassifier(**params)\n",
    "        model.fit(X_train, y_train)\n",
    "        y_pred = model.predict(X_test)\n",
    "        accuracy = accuracy_score(y_test, y_pred)\n",
    "        print(classification_report(y_test, y_pred))  # Affichage du report\n",
    "\n",
    "        # Enregistrer les paramètres et les métriques\n",
    "        mlflow.log_params(params)\n",
    "        mlflow.log_metric(\"accuracy\", accuracy)\n",
    "        mlflow.xgboost.log_model(model, \"model\")\n",
    "\n",
    "for n_estimators in param_grid['n_estimators']:\n",
    "    for learning_rate in param_grid['learning_rate']:\n",
    "        params = {'n_estimators': n_estimators, 'learning_rate': learning_rate}\n",
    "        train_and_evaluate(params)"
   ]
  }
 ],
 "metadata": {
  "kernelspec": {
   "display_name": "base",
   "language": "python",
   "name": "python3"
  },
  "language_info": {
   "codemirror_mode": {
    "name": "ipython",
    "version": 3
   },
   "file_extension": ".py",
   "mimetype": "text/x-python",
   "name": "python",
   "nbconvert_exporter": "python",
   "pygments_lexer": "ipython3",
   "version": "3.12.9"
  }
 },
 "nbformat": 4,
 "nbformat_minor": 2
}
